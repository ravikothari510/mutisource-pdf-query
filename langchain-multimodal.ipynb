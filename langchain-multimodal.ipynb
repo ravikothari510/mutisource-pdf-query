{
  "cells": [
    {
      "cell_type": "markdown",
      "metadata": {
        "colab_type": "text",
        "id": "view-in-github"
      },
      "source": [
        "<a href=\"https://colab.research.google.com/gist/alejandro-ao/47db0b8b9d00b10a96ab42dd59d90b86/langchain-multimodal.ipynb\" target=\"_parent\"><img src=\"https://colab.research.google.com/assets/colab-badge.svg\" alt=\"Open In Colab\"/></a>"
      ]
    },
    {
      "cell_type": "markdown",
      "id": "812a4dbc-fe04-4b84-bdf9-390045e30806",
      "metadata": {
        "id": "812a4dbc-fe04-4b84-bdf9-390045e30806"
      },
      "source": [
        "# Multi-modal RAG with LangChain"
      ]
    },
    {
      "cell_type": "code",
      "execution_count": 1,
      "id": "91106e31",
      "metadata": {
        "id": "91106e31",
        "outputId": "fb35d92c-c338-4b78-bacb-5da648093f6e"
      },
      "outputs": [],
      "source": [
        "import os\n",
        "from dotenv import load_dotenv\n",
        "load_dotenv()\n",
        "os.environ[\"LANGCHAIN_TRACING_V2\"] = \"true\"\n"
      ]
    },
    {
      "cell_type": "markdown",
      "id": "74b56bde-1ba0-4525-a11d-cab02c5659e4",
      "metadata": {
        "id": "74b56bde-1ba0-4525-a11d-cab02c5659e4"
      },
      "source": [
        "## Extract the data\n",
        "\n",
        "Extract the elements of the PDF that we will be able to use in the retrieval process. These elements can be: Text, Images, Tables, etc."
      ]
    },
    {
      "cell_type": "markdown",
      "id": "e62ec070",
      "metadata": {
        "id": "e62ec070"
      },
      "source": [
        "### Partition PDF tables, text, and images"
      ]
    },
    {
      "cell_type": "code",
      "execution_count": 2,
      "id": "0a046528-8d22-4f4e-a520-962026562939",
      "metadata": {
        "colab": {
          "base_uri": "https://localhost:8080/",
          "height": 308,
          "referenced_widgets": [
            "5246faf4e8194647a4b41d9de5a168f6",
            "c8f31460d7d5420db2c7840e287fac5b",
            "2ee43f14fa654a66ad0cfb559826f266",
            "e7e6388db19d47ceb06afc75fbb8486c",
            "922be25533bd448e9ce92614f7bd2677",
            "f63ee7f4234c45d48829e011f24eafde",
            "f8bcfb1381aa46d89034ea50e30b43cf",
            "00b164fb36864e53a8a73710d7d855cc",
            "64a0c4aa0bba4b6f8e8f5775a4341147",
            "2bcca7acc6f047d6ad4efbf1e5333c58",
            "052ec73371404595b7dec973dda308d4",
            "b12ba9f2111c44eeb5ae65820cc7d5d7",
            "15b9261bb07f4bbb95d276b92feabade",
            "5ffb0b594f51466284af380fd4d47b40",
            "fc994e0c5ced45c78c0b9bb6f19c073f",
            "c58471c60519419e9cdb3c7ff174d702",
            "0e7ed203dde24ec9a8d0f9c95a8877fd",
            "e64cfd87330d4b238596da66db63d984",
            "c13aff2b064743be941b4672550e56c9",
            "ef5fba5f330748faa9bd583d637087a6",
            "daabde9b4b764797af6b96370e40c1d2",
            "7d37b6f0ba8b4c5eb875635b98778d26",
            "a9a67e81e91e46e19b23f58dea634525",
            "2045ffddb5c4407f9235d1bf472e9ba5",
            "2df0c4cc59044ec8a59aadf2d5d2a9c9",
            "3095817ccc8f4ec6bae9b0c201d8e40a",
            "93205e664daa4921959605eb99dfa9cc",
            "9eab400a02dc46269e2537db44a78625",
            "415ddcb74bc2467fa9399039b7d0cafb",
            "b2fc825e7e6949e0a18f491ff261ac2b",
            "df6e6c84cc1c4c7b8cf5f8555eb42166",
            "547eb1582628438c9f0ef01554dfcdb4",
            "40b532d4d85740a2a16251bb321f489a",
            "ef897646c62444929b91935d3917b14d",
            "3bd05fe4e6bd4ea2b7bfcfba705369c5",
            "27e36e7f92d7417bb221fa95406cfb2f",
            "21318da3ae0644c28ec63983a34bd2ee",
            "c428c0bd915d455986b3193e9636ea80",
            "01ef4b60c3144e17afffb86281466bab",
            "3494ef9884224fa9a0a65999d7fc2945",
            "7185b40a7fa74088ad7ff6efb524e6b5",
            "cc6672c78dac468d9264efd90902c87d",
            "7ad056a7d71847d498f270ecac5cbf62",
            "309bad22d08c47af8d51942da599328e"
          ]
        },
        "id": "0a046528-8d22-4f4e-a520-962026562939",
        "outputId": "85bfb6b1-557f-4d4d-be94-b0c7200150e2",
        "scrolled": true
      },
      "outputs": [
        {
          "name": "stderr",
          "output_type": "stream",
          "text": [
            "/home/u27v31/envs/multipdf/lib/python3.10/site-packages/tqdm/auto.py:21: TqdmWarning: IProgress not found. Please update jupyter and ipywidgets. See https://ipywidgets.readthedocs.io/en/stable/user_install.html\n",
            "  from .autonotebook import tqdm as notebook_tqdm\n"
          ]
        }
      ],
      "source": [
        "from unstructured.partition.pdf import partition_pdf\n",
        "\n",
        "output_path = \"./data/\"\n",
        "file_path = output_path + 'transformer.pdf'\n",
        "\n",
        "# Reference: https://docs.unstructured.io/open-source/core-functionality/chunking\n",
        "chunks = partition_pdf(\n",
        "    filename=file_path,\n",
        "    infer_table_structure=True,            # extract tables\n",
        "    strategy=\"hi_res\",                     # mandatory to infer tables\n",
        "\n",
        "    extract_image_block_types=[\"Image\"],   # Add 'Table' to list to extract image of tables\n",
        "    # image_output_dir_path=output_path,   # if None, images and tables will saved in base64\n",
        "\n",
        "    extract_image_block_to_payload=True,   # if true, will extract base64 for API usage\n",
        "\n",
        "    chunking_strategy=\"by_title\",          # or 'basic'\n",
        "    max_characters=10000,                  # defaults to 500\n",
        "    combine_text_under_n_chars=2000,       # defaults to 0\n",
        "    new_after_n_chars=6000,\n",
        "\n",
        "    # extract_images_in_pdf=True,          # deprecated\n",
        ")"
      ]
    },
    {
      "cell_type": "code",
      "execution_count": null,
      "id": "038f6733",
      "metadata": {
        "id": "038f6733",
        "outputId": "9645206b-5b1d-45b5-ae1d-1883d78247f6"
      },
      "outputs": [],
      "source": [
        "# We get 2 types of elements from the partition_pdf function\n",
        "set([str(type(el)) for el in chunks])"
      ]
    },
    {
      "cell_type": "code",
      "execution_count": null,
      "id": "cccca0db",
      "metadata": {
        "id": "cccca0db",
        "outputId": "46f33bf2-d1d8-4bef-a0bf-d903ae2179d3"
      },
      "outputs": [],
      "source": [
        "# Each CompositeElement containes a bunch of related elements.\n",
        "# This makes it easy to use these elements together in a RAG pipeline.\n",
        "\n",
        "chunks[3].metadata.orig_elements"
      ]
    },
    {
      "cell_type": "code",
      "execution_count": null,
      "id": "b8766f03",
      "metadata": {
        "id": "b8766f03",
        "outputId": "8bd43211-e0a6-4d35-833e-ee7cb374c9b6"
      },
      "outputs": [],
      "source": [
        "# This is what an extracted image looks like.\n",
        "# It contains the base64 representation only because we set the param extract_image_block_to_payload=True\n",
        "\n",
        "elements = chunks[3].metadata.orig_elements\n",
        "chunk_images = [el for el in elements if 'Image' in str(type(el))]\n",
        "chunk_images[0].to_dict()"
      ]
    },
    {
      "cell_type": "markdown",
      "id": "26caebda",
      "metadata": {
        "id": "26caebda"
      },
      "source": [
        "### Separate extracted elements into tables, text, and images"
      ]
    },
    {
      "cell_type": "code",
      "execution_count": null,
      "id": "8326a750",
      "metadata": {
        "id": "8326a750"
      },
      "outputs": [],
      "source": [
        "# separate tables from texts\n",
        "tables = []\n",
        "texts = []\n",
        "\n",
        "for chunk in chunks:\n",
        "    if \"Table\" in str(type(chunk)):\n",
        "        tables.append(chunk)\n",
        "\n",
        "    if \"CompositeElement\" in str(type((chunk))):\n",
        "        texts.append(chunk)"
      ]
    },
    {
      "cell_type": "code",
      "execution_count": null,
      "id": "46c74026",
      "metadata": {},
      "outputs": [],
      "source": [
        "tables[0].metadata.text_as_html"
      ]
    },
    {
      "cell_type": "code",
      "execution_count": null,
      "id": "df548e46",
      "metadata": {
        "id": "df548e46"
      },
      "outputs": [],
      "source": [
        "# Get the images from the CompositeElement objects\n",
        "def get_images_base64(chunks):\n",
        "    images_b64 = []\n",
        "    for chunk in chunks:\n",
        "        if \"CompositeElement\" in str(type(chunk)):\n",
        "            chunk_els = chunk.metadata.orig_elements\n",
        "            for el in chunk_els:\n",
        "                if \"Image\" in str(type(el)):\n",
        "                    images_b64.append(el.metadata.image_base64)\n",
        "    return images_b64\n",
        "\n",
        "images = get_images_base64(chunks)"
      ]
    },
    {
      "cell_type": "markdown",
      "id": "9582f462",
      "metadata": {
        "id": "9582f462"
      },
      "source": [
        "#### Check what the images look like"
      ]
    },
    {
      "cell_type": "code",
      "execution_count": null,
      "id": "83158c36",
      "metadata": {
        "id": "83158c36",
        "outputId": "50ba7432-e879-4a64-e9f4-b47fdbeb0fbf"
      },
      "outputs": [],
      "source": [
        "import base64\n",
        "from IPython.display import Image, display\n",
        "\n",
        "def display_base64_image(base64_code):\n",
        "    # Decode the base64 string to binary\n",
        "    image_data = base64.b64decode(base64_code)\n",
        "    # Display the image\n",
        "    display(Image(data=image_data))\n",
        "\n",
        "display_base64_image(images[0])"
      ]
    },
    {
      "cell_type": "markdown",
      "id": "0aa7f52f-bf5c-4ba4-af72-b2ccba59a4cf",
      "metadata": {
        "id": "0aa7f52f-bf5c-4ba4-af72-b2ccba59a4cf"
      },
      "source": [
        "## Summarize the data\n",
        "\n",
        "Create a summary of each element extracted from the PDF. This summary will be vectorized and used in the retrieval process."
      ]
    },
    {
      "cell_type": "markdown",
      "id": "8b55862c",
      "metadata": {
        "id": "8b55862c"
      },
      "source": [
        "### Text and Table summaries\n",
        "\n",
        "We don't need a multimodal model to generate the summaries of the tables and the text. I will use open source models available on Groq."
      ]
    },
    {
      "cell_type": "code",
      "execution_count": null,
      "id": "08b3d2bc",
      "metadata": {
        "id": "08b3d2bc",
        "outputId": "5c39beb3-2a0c-44b8-c2b2-48a4e451282c"
      },
      "outputs": [],
      "source": [
        "# %pip install -Uq langchain-groq"
      ]
    },
    {
      "cell_type": "code",
      "execution_count": null,
      "id": "523e6ed2-2132-4748-bdb7-db765f20648d",
      "metadata": {
        "id": "523e6ed2-2132-4748-bdb7-db765f20648d"
      },
      "outputs": [],
      "source": [
        "# from langchain_groq import ChatGroq\n",
        "from langchain_openai import ChatOpenAI\n",
        "from langchain_core.prompts import ChatPromptTemplate\n",
        "from langchain_core.output_parsers import StrOutputParser"
      ]
    },
    {
      "cell_type": "code",
      "execution_count": null,
      "id": "22c22e3f-42fb-4a4a-a87a-89f10ba8ab99",
      "metadata": {
        "id": "22c22e3f-42fb-4a4a-a87a-89f10ba8ab99"
      },
      "outputs": [],
      "source": [
        "# Prompt\n",
        "prompt_text = \"\"\"\n",
        "You are an assistant tasked with summarizing tables and text.\n",
        "Give a concise summary of the table or text.\n",
        "\n",
        "Respond only with the summary, no additionnal comment.\n",
        "Do not start your message by saying \"Here is a summary\" or anything like that.\n",
        "Just give the summary as it is.\n",
        "\n",
        "Table or text chunk: {element}\n",
        "\n",
        "\"\"\"\n",
        "prompt = ChatPromptTemplate.from_template(prompt_text)\n",
        "\n",
        "# Summary chain\n",
        "model = ChatOpenAI(temperature=0.5, model=\"gpt-4o-mini\")\n",
        "summarize_chain = {\"element\": lambda x: x} | prompt | model | StrOutputParser()"
      ]
    },
    {
      "cell_type": "code",
      "execution_count": null,
      "id": "f176b374-aef0-48f4-a104-fb26b1dd6922",
      "metadata": {
        "id": "f176b374-aef0-48f4-a104-fb26b1dd6922"
      },
      "outputs": [],
      "source": [
        "# Summarize text\n",
        "text_summaries = summarize_chain.batch(texts, {\"max_concurrency\": 3})\n",
        "\n",
        "# Summarize tables\n",
        "tables_html = [table.metadata.text_as_html for table in tables]\n",
        "table_summaries = summarize_chain.batch(tables_html, {\"max_concurrency\": 3})"
      ]
    },
    {
      "cell_type": "code",
      "execution_count": null,
      "id": "31e945e1",
      "metadata": {},
      "outputs": [],
      "source": [
        "texts[5].to_dict()"
      ]
    },
    {
      "cell_type": "code",
      "execution_count": null,
      "id": "4f627183",
      "metadata": {},
      "outputs": [],
      "source": [
        "table_summaries"
      ]
    },
    {
      "cell_type": "code",
      "execution_count": null,
      "id": "1d172ad2",
      "metadata": {
        "id": "1d172ad2",
        "outputId": "1ba65afb-c9cd-4503-c154-db7841dfc1d4"
      },
      "outputs": [],
      "source": [
        "text_summaries"
      ]
    },
    {
      "cell_type": "markdown",
      "id": "b1feadda-8171-4aed-9a60-320a88dc9ee1",
      "metadata": {
        "id": "b1feadda-8171-4aed-9a60-320a88dc9ee1"
      },
      "source": [
        "### Image summaries\n",
        "\n",
        "We will use gpt-4o-mini to produce the image summaries."
      ]
    },
    {
      "cell_type": "code",
      "execution_count": null,
      "id": "32c825e1",
      "metadata": {
        "id": "32c825e1",
        "outputId": "3ef8d057-2214-41e8-80e1-c5f902a01ac8"
      },
      "outputs": [],
      "source": [
        "# %pip install -Uq langchain_openai"
      ]
    },
    {
      "cell_type": "code",
      "execution_count": null,
      "id": "9e6b1d97-4245-45ac-95ba-9bc1cfd10182",
      "metadata": {
        "id": "9e6b1d97-4245-45ac-95ba-9bc1cfd10182"
      },
      "outputs": [],
      "source": [
        "from langchain_openai import ChatOpenAI\n",
        "\n",
        "# Here we are alredy provifing the contect for the LLM (how to handel this automatically)\n",
        "prompt_template = \"\"\"Describe the image in detail. For context,\n",
        "                  the image is part of a research paper explaining the transformers\n",
        "                  architecture. Be specific about graphs, such as bar plots.\"\"\"\n",
        "messages = [\n",
        "    (\n",
        "        \"user\",\n",
        "        [\n",
        "            {\"type\": \"text\", \"text\": prompt_template},\n",
        "            {\n",
        "                \"type\": \"image_url\",\n",
        "                \"image_url\": {\"url\": \"data:image/jpeg;base64,{image}\"},\n",
        "            },\n",
        "        ],\n",
        "    )\n",
        "]\n",
        "\n",
        "prompt = ChatPromptTemplate.from_messages(messages)\n",
        "\n",
        "chain = prompt | ChatOpenAI(model=\"gpt-4o-mini\") | StrOutputParser()\n",
        "\n",
        "\n",
        "image_summaries = chain.batch(images)"
      ]
    },
    {
      "cell_type": "code",
      "execution_count": null,
      "id": "laF_8o1gzHT0",
      "metadata": {
        "colab": {
          "base_uri": "https://localhost:8080/"
        },
        "id": "laF_8o1gzHT0",
        "outputId": "f82547af-0885-4d78-9f50-940dd9e6551e"
      },
      "outputs": [],
      "source": [
        "image_summaries"
      ]
    },
    {
      "cell_type": "code",
      "execution_count": null,
      "id": "aHNDEd_2txQI",
      "metadata": {
        "colab": {
          "base_uri": "https://localhost:8080/",
          "height": 143
        },
        "id": "aHNDEd_2txQI",
        "outputId": "fbd7c64e-f463-4203-e1ca-f79c7426aaf6"
      },
      "outputs": [],
      "source": [
        "print(image_summaries[1])"
      ]
    },
    {
      "cell_type": "markdown",
      "id": "67b030d4-2ac5-41b6-9245-fc3ba5771d87",
      "metadata": {
        "id": "67b030d4-2ac5-41b6-9245-fc3ba5771d87"
      },
      "source": [
        "## Load data and summaries to vectorstore"
      ]
    },
    {
      "cell_type": "markdown",
      "id": "bb4d2379",
      "metadata": {
        "id": "bb4d2379"
      },
      "source": [
        "### Create the vectorstore"
      ]
    },
    {
      "cell_type": "code",
      "execution_count": null,
      "id": "9d8d7a34-69e0-49a2-b9f7-1a4e7b26d78f",
      "metadata": {
        "id": "9d8d7a34-69e0-49a2-b9f7-1a4e7b26d78f",
        "outputId": "c91d7a77-d820-446f-a751-15f5d4668e8f"
      },
      "outputs": [],
      "source": [
        "import uuid\n",
        "from langchain.vectorstores import Chroma\n",
        "from langchain.storage import InMemoryStore\n",
        "from langchain.schema.document import Document\n",
        "from langchain.embeddings import OpenAIEmbeddings\n",
        "from langchain.retrievers.multi_vector import MultiVectorRetriever\n",
        "\n",
        "# The vectorstore to use to index the child chunks\n",
        "vectorstore = Chroma(collection_name=\"multi_modal_rag\", embedding_function=OpenAIEmbeddings())\n",
        "\n",
        "# The storage layer for the parent documents\n",
        "store = InMemoryStore()\n",
        "id_key = \"doc_id\"\n",
        "\n",
        "# The retriever (empty to start)\n",
        "retriever = MultiVectorRetriever(\n",
        "    vectorstore=vectorstore,\n",
        "    docstore=store,\n",
        "    id_key=id_key,\n",
        ")"
      ]
    },
    {
      "cell_type": "markdown",
      "id": "2bf26669",
      "metadata": {
        "id": "2bf26669"
      },
      "source": [
        "### Load the summaries and link the to the original data"
      ]
    },
    {
      "cell_type": "code",
      "execution_count": null,
      "id": "1792e683",
      "metadata": {
        "id": "1792e683"
      },
      "outputs": [],
      "source": [
        "# Add texts\n",
        "doc_ids = [str(uuid.uuid4()) for _ in texts]\n",
        "summary_texts = [\n",
        "    Document(page_content=summary, metadata={id_key: doc_ids[i]}) for i, summary in enumerate(text_summaries)\n",
        "]\n",
        "retriever.vectorstore.add_documents(summary_texts)\n",
        "retriever.docstore.mset(list(zip(doc_ids, texts)))\n",
        "\n",
        "# Add tables\n",
        "table_ids = [str(uuid.uuid4()) for _ in tables]\n",
        "summary_tables = [\n",
        "    Document(page_content=summary, metadata={id_key: table_ids[i]}) for i, summary in enumerate(table_summaries)\n",
        "]\n",
        "retriever.vectorstore.add_documents(summary_tables)\n",
        "retriever.docstore.mset(list(zip(table_ids, tables)))\n",
        "\n",
        "# Add image summaries\n",
        "img_ids = [str(uuid.uuid4()) for _ in images]\n",
        "summary_img = [\n",
        "    Document(page_content=summary, metadata={id_key: img_ids[i]}) for i, summary in enumerate(image_summaries)\n",
        "]\n",
        "retriever.vectorstore.add_documents(summary_img)\n",
        "retriever.docstore.mset(list(zip(img_ids, images)))"
      ]
    },
    {
      "cell_type": "markdown",
      "id": "4b45fb81-46b1-426e-aa2c-01aed4eac700",
      "metadata": {
        "id": "4b45fb81-46b1-426e-aa2c-01aed4eac700"
      },
      "source": [
        "### Check retrieval"
      ]
    },
    {
      "cell_type": "code",
      "execution_count": null,
      "id": "1bea75fe-85af-4955-a80c-6e0b44a8e215",
      "metadata": {
        "id": "1bea75fe-85af-4955-a80c-6e0b44a8e215"
      },
      "outputs": [],
      "source": [
        "# Retrieve\n",
        "docs = retriever.invoke(\n",
        "    # \"who are the authors of the paper?\"\n",
        "    \"what is multi head attensation?\"\n",
        ")"
      ]
    },
    {
      "cell_type": "code",
      "execution_count": null,
      "id": "92b4dd79",
      "metadata": {},
      "outputs": [],
      "source": [
        "docs"
      ]
    },
    {
      "cell_type": "code",
      "execution_count": null,
      "id": "a0290c78",
      "metadata": {
        "id": "a0290c78",
        "outputId": "d19cdecf-c9e6-4b40-f996-06041a7f0ee4"
      },
      "outputs": [],
      "source": [
        "for doc in docs:\n",
        "    print(str(doc) + \"\\n\\n\" + \"-\" * 80)"
      ]
    },
    {
      "cell_type": "markdown",
      "id": "69060724-e390-4dda-8250-5f86025c874a",
      "metadata": {
        "id": "69060724-e390-4dda-8250-5f86025c874a"
      },
      "source": [
        "## RAG pipeline"
      ]
    },
    {
      "cell_type": "code",
      "execution_count": null,
      "id": "771a47fa-1267-4db8-a6ae-5fde48bbc069",
      "metadata": {
        "id": "771a47fa-1267-4db8-a6ae-5fde48bbc069"
      },
      "outputs": [],
      "source": [
        "from langchain_core.runnables import RunnablePassthrough, RunnableLambda\n",
        "from langchain_core.messages import SystemMessage, HumanMessage\n",
        "from langchain_openai import ChatOpenAI\n",
        "from base64 import b64decode\n",
        "\n",
        "\n",
        "def parse_docs(docs):\n",
        "    \"\"\"Split base64-encoded images and texts\"\"\"\n",
        "    b64 = []\n",
        "    text = []\n",
        "    for doc in docs:\n",
        "        try:\n",
        "            b64decode(doc)\n",
        "            b64.append(doc)\n",
        "        except Exception as e:\n",
        "            text.append(doc)\n",
        "    return {\"images\": b64, \"texts\": text}\n",
        "\n",
        "\n",
        "def build_prompt(kwargs):\n",
        "\n",
        "    docs_by_type = kwargs[\"context\"]\n",
        "    user_question = kwargs[\"question\"]\n",
        "\n",
        "    context_text = \"\"\n",
        "    if len(docs_by_type[\"texts\"]) > 0:\n",
        "        for text_element in docs_by_type[\"texts\"]:\n",
        "            context_text += text_element.text\n",
        "\n",
        "    # construct prompt with context (including images)\n",
        "    prompt_template = f\"\"\"\n",
        "    Answer the question based only on the following context, which can include text, tables, and the below image.\n",
        "    Context: {context_text}\n",
        "    Question: {user_question}\n",
        "    \"\"\"\n",
        "\n",
        "    prompt_content = [{\"type\": \"text\", \"text\": prompt_template}]\n",
        "\n",
        "    if len(docs_by_type[\"images\"]) > 0:\n",
        "        for image in docs_by_type[\"images\"]:\n",
        "            prompt_content.append(\n",
        "                {\n",
        "                    \"type\": \"image_url\",\n",
        "                    \"image_url\": {\"url\": f\"data:image/jpeg;base64,{image}\"},\n",
        "                }\n",
        "            )\n",
        "\n",
        "    return ChatPromptTemplate.from_messages(\n",
        "        [\n",
        "            HumanMessage(content=prompt_content),\n",
        "        ]\n",
        "    )\n",
        "\n",
        "\n",
        "chain = (\n",
        "    {\n",
        "        \"context\": retriever | RunnableLambda(parse_docs),\n",
        "        \"question\": RunnablePassthrough(),\n",
        "    }\n",
        "    | RunnableLambda(build_prompt)\n",
        "    | ChatOpenAI(model=\"gpt-4o-mini\")\n",
        "    | StrOutputParser()\n",
        ")\n",
        "\n",
        "chain_with_sources = {\n",
        "    \"context\": retriever | RunnableLambda(parse_docs),\n",
        "    \"question\": RunnablePassthrough(),\n",
        "} | RunnablePassthrough().assign(\n",
        "    response=(\n",
        "        RunnableLambda(build_prompt)\n",
        "        | ChatOpenAI(model=\"gpt-4o-mini\")\n",
        "        | StrOutputParser()\n",
        "    )\n",
        ")"
      ]
    },
    {
      "cell_type": "code",
      "execution_count": null,
      "id": "ea8414a8-65ee-4e11-8154-029b454f46af",
      "metadata": {
        "colab": {
          "base_uri": "https://localhost:8080/",
          "height": 180
        },
        "id": "ea8414a8-65ee-4e11-8154-029b454f46af",
        "outputId": "2edf5f7e-9165-46ef-e710-cc945b78b230"
      },
      "outputs": [],
      "source": [
        "response = chain.invoke(\n",
        "    \"What is the attention mechanism?\"\n",
        ")\n",
        "\n",
        "print(response)"
      ]
    },
    {
      "cell_type": "code",
      "execution_count": null,
      "id": "e4adfeba",
      "metadata": {
        "id": "e4adfeba",
        "outputId": "7c82360d-4c90-4cd1-9db4-7ba815277bbc"
      },
      "outputs": [],
      "source": [
        "response = chain_with_sources.invoke(\n",
        "    \"What is multihead?\"\n",
        ")\n",
        "\n",
        "print(\"Response:\", response['response'])\n",
        "\n",
        "print(\"\\n\\nContext:\")\n",
        "for text in response['context']['texts']:\n",
        "    print(text.text)\n",
        "    print(\"Page number: \", text.metadata.page_number)\n",
        "    print(\"\\n\" + \"-\"*50 + \"\\n\")\n",
        "for image in response['context']['images']:\n",
        "    display_base64_image(image)"
      ]
    },
    {
      "cell_type": "markdown",
      "id": "90cd3714",
      "metadata": {
        "id": "90cd3714"
      },
      "source": [
        "## References\n",
        "\n",
        "- [LangChain Inspiration](https://github.com/langchain-ai/langchain/blob/master/cookbook/Semi_structured_and_multi_modal_RAG.ipynb?ref=blog.langchain.dev)\n",
        "- [Multivector Storage](https://python.langchain.com/docs/how_to/multi_vector/)"
      ]
    }
  ],
  "metadata": {
    "colab": {
      "collapsed_sections": [
        "74b56bde-1ba0-4525-a11d-cab02c5659e4",
        "8b55862c",
        "b1feadda-8171-4aed-9a60-320a88dc9ee1",
        "bb4d2379",
        "2bf26669",
        "4b45fb81-46b1-426e-aa2c-01aed4eac700",
        "69060724-e390-4dda-8250-5f86025c874a"
      ],
      "include_colab_link": true,
      "provenance": []
    },
    "kernelspec": {
      "display_name": "mm-rag",
      "language": "python",
      "name": "python3"
    },
    "language_info": {
      "codemirror_mode": {
        "name": "ipython",
        "version": 3
      },
      "file_extension": ".py",
      "mimetype": "text/x-python",
      "name": "python",
      "nbconvert_exporter": "python",
      "pygments_lexer": "ipython3",
      "version": "3.10.12"
    },
    "widgets": {
      "application/vnd.jupyter.widget-state+json": {
        "00b164fb36864e53a8a73710d7d855cc": {
          "model_module": "@jupyter-widgets/base",
          "model_module_version": "1.2.0",
          "model_name": "LayoutModel",
          "state": {
            "_model_module": "@jupyter-widgets/base",
            "_model_module_version": "1.2.0",
            "_model_name": "LayoutModel",
            "_view_count": null,
            "_view_module": "@jupyter-widgets/base",
            "_view_module_version": "1.2.0",
            "_view_name": "LayoutView",
            "align_content": null,
            "align_items": null,
            "align_self": null,
            "border": null,
            "bottom": null,
            "display": null,
            "flex": null,
            "flex_flow": null,
            "grid_area": null,
            "grid_auto_columns": null,
            "grid_auto_flow": null,
            "grid_auto_rows": null,
            "grid_column": null,
            "grid_gap": null,
            "grid_row": null,
            "grid_template_areas": null,
            "grid_template_columns": null,
            "grid_template_rows": null,
            "height": null,
            "justify_content": null,
            "justify_items": null,
            "left": null,
            "margin": null,
            "max_height": null,
            "max_width": null,
            "min_height": null,
            "min_width": null,
            "object_fit": null,
            "object_position": null,
            "order": null,
            "overflow": null,
            "overflow_x": null,
            "overflow_y": null,
            "padding": null,
            "right": null,
            "top": null,
            "visibility": null,
            "width": null
          }
        },
        "01ef4b60c3144e17afffb86281466bab": {
          "model_module": "@jupyter-widgets/base",
          "model_module_version": "1.2.0",
          "model_name": "LayoutModel",
          "state": {
            "_model_module": "@jupyter-widgets/base",
            "_model_module_version": "1.2.0",
            "_model_name": "LayoutModel",
            "_view_count": null,
            "_view_module": "@jupyter-widgets/base",
            "_view_module_version": "1.2.0",
            "_view_name": "LayoutView",
            "align_content": null,
            "align_items": null,
            "align_self": null,
            "border": null,
            "bottom": null,
            "display": null,
            "flex": null,
            "flex_flow": null,
            "grid_area": null,
            "grid_auto_columns": null,
            "grid_auto_flow": null,
            "grid_auto_rows": null,
            "grid_column": null,
            "grid_gap": null,
            "grid_row": null,
            "grid_template_areas": null,
            "grid_template_columns": null,
            "grid_template_rows": null,
            "height": null,
            "justify_content": null,
            "justify_items": null,
            "left": null,
            "margin": null,
            "max_height": null,
            "max_width": null,
            "min_height": null,
            "min_width": null,
            "object_fit": null,
            "object_position": null,
            "order": null,
            "overflow": null,
            "overflow_x": null,
            "overflow_y": null,
            "padding": null,
            "right": null,
            "top": null,
            "visibility": null,
            "width": null
          }
        },
        "052ec73371404595b7dec973dda308d4": {
          "model_module": "@jupyter-widgets/controls",
          "model_module_version": "1.5.0",
          "model_name": "DescriptionStyleModel",
          "state": {
            "_model_module": "@jupyter-widgets/controls",
            "_model_module_version": "1.5.0",
            "_model_name": "DescriptionStyleModel",
            "_view_count": null,
            "_view_module": "@jupyter-widgets/base",
            "_view_module_version": "1.2.0",
            "_view_name": "StyleView",
            "description_width": ""
          }
        },
        "0e7ed203dde24ec9a8d0f9c95a8877fd": {
          "model_module": "@jupyter-widgets/base",
          "model_module_version": "1.2.0",
          "model_name": "LayoutModel",
          "state": {
            "_model_module": "@jupyter-widgets/base",
            "_model_module_version": "1.2.0",
            "_model_name": "LayoutModel",
            "_view_count": null,
            "_view_module": "@jupyter-widgets/base",
            "_view_module_version": "1.2.0",
            "_view_name": "LayoutView",
            "align_content": null,
            "align_items": null,
            "align_self": null,
            "border": null,
            "bottom": null,
            "display": null,
            "flex": null,
            "flex_flow": null,
            "grid_area": null,
            "grid_auto_columns": null,
            "grid_auto_flow": null,
            "grid_auto_rows": null,
            "grid_column": null,
            "grid_gap": null,
            "grid_row": null,
            "grid_template_areas": null,
            "grid_template_columns": null,
            "grid_template_rows": null,
            "height": null,
            "justify_content": null,
            "justify_items": null,
            "left": null,
            "margin": null,
            "max_height": null,
            "max_width": null,
            "min_height": null,
            "min_width": null,
            "object_fit": null,
            "object_position": null,
            "order": null,
            "overflow": null,
            "overflow_x": null,
            "overflow_y": null,
            "padding": null,
            "right": null,
            "top": null,
            "visibility": null,
            "width": null
          }
        },
        "15b9261bb07f4bbb95d276b92feabade": {
          "model_module": "@jupyter-widgets/controls",
          "model_module_version": "1.5.0",
          "model_name": "HTMLModel",
          "state": {
            "_dom_classes": [],
            "_model_module": "@jupyter-widgets/controls",
            "_model_module_version": "1.5.0",
            "_model_name": "HTMLModel",
            "_view_count": null,
            "_view_module": "@jupyter-widgets/controls",
            "_view_module_version": "1.5.0",
            "_view_name": "HTMLView",
            "description": "",
            "description_tooltip": null,
            "layout": "IPY_MODEL_0e7ed203dde24ec9a8d0f9c95a8877fd",
            "placeholder": "​",
            "style": "IPY_MODEL_e64cfd87330d4b238596da66db63d984",
            "value": "Downloading (…)lve/main/config.json: 100%"
          }
        },
        "2045ffddb5c4407f9235d1bf472e9ba5": {
          "model_module": "@jupyter-widgets/controls",
          "model_module_version": "1.5.0",
          "model_name": "HTMLModel",
          "state": {
            "_dom_classes": [],
            "_model_module": "@jupyter-widgets/controls",
            "_model_module_version": "1.5.0",
            "_model_name": "HTMLModel",
            "_view_count": null,
            "_view_module": "@jupyter-widgets/controls",
            "_view_module_version": "1.5.0",
            "_view_name": "HTMLView",
            "description": "",
            "description_tooltip": null,
            "layout": "IPY_MODEL_9eab400a02dc46269e2537db44a78625",
            "placeholder": "​",
            "style": "IPY_MODEL_415ddcb74bc2467fa9399039b7d0cafb",
            "value": "Downloading model.safetensors: 100%"
          }
        },
        "21318da3ae0644c28ec63983a34bd2ee": {
          "model_module": "@jupyter-widgets/controls",
          "model_module_version": "1.5.0",
          "model_name": "HTMLModel",
          "state": {
            "_dom_classes": [],
            "_model_module": "@jupyter-widgets/controls",
            "_model_module_version": "1.5.0",
            "_model_name": "HTMLModel",
            "_view_count": null,
            "_view_module": "@jupyter-widgets/controls",
            "_view_module_version": "1.5.0",
            "_view_name": "HTMLView",
            "description": "",
            "description_tooltip": null,
            "layout": "IPY_MODEL_7ad056a7d71847d498f270ecac5cbf62",
            "placeholder": "​",
            "style": "IPY_MODEL_309bad22d08c47af8d51942da599328e",
            "value": " 46.8M/46.8M [00:00&lt;00:00, 103MB/s]"
          }
        },
        "27e36e7f92d7417bb221fa95406cfb2f": {
          "model_module": "@jupyter-widgets/controls",
          "model_module_version": "1.5.0",
          "model_name": "FloatProgressModel",
          "state": {
            "_dom_classes": [],
            "_model_module": "@jupyter-widgets/controls",
            "_model_module_version": "1.5.0",
            "_model_name": "FloatProgressModel",
            "_view_count": null,
            "_view_module": "@jupyter-widgets/controls",
            "_view_module_version": "1.5.0",
            "_view_name": "ProgressView",
            "bar_style": "success",
            "description": "",
            "description_tooltip": null,
            "layout": "IPY_MODEL_7185b40a7fa74088ad7ff6efb524e6b5",
            "max": 46807446,
            "min": 0,
            "orientation": "horizontal",
            "style": "IPY_MODEL_cc6672c78dac468d9264efd90902c87d",
            "value": 46807446
          }
        },
        "2bcca7acc6f047d6ad4efbf1e5333c58": {
          "model_module": "@jupyter-widgets/base",
          "model_module_version": "1.2.0",
          "model_name": "LayoutModel",
          "state": {
            "_model_module": "@jupyter-widgets/base",
            "_model_module_version": "1.2.0",
            "_model_name": "LayoutModel",
            "_view_count": null,
            "_view_module": "@jupyter-widgets/base",
            "_view_module_version": "1.2.0",
            "_view_name": "LayoutView",
            "align_content": null,
            "align_items": null,
            "align_self": null,
            "border": null,
            "bottom": null,
            "display": null,
            "flex": null,
            "flex_flow": null,
            "grid_area": null,
            "grid_auto_columns": null,
            "grid_auto_flow": null,
            "grid_auto_rows": null,
            "grid_column": null,
            "grid_gap": null,
            "grid_row": null,
            "grid_template_areas": null,
            "grid_template_columns": null,
            "grid_template_rows": null,
            "height": null,
            "justify_content": null,
            "justify_items": null,
            "left": null,
            "margin": null,
            "max_height": null,
            "max_width": null,
            "min_height": null,
            "min_width": null,
            "object_fit": null,
            "object_position": null,
            "order": null,
            "overflow": null,
            "overflow_x": null,
            "overflow_y": null,
            "padding": null,
            "right": null,
            "top": null,
            "visibility": null,
            "width": null
          }
        },
        "2df0c4cc59044ec8a59aadf2d5d2a9c9": {
          "model_module": "@jupyter-widgets/controls",
          "model_module_version": "1.5.0",
          "model_name": "FloatProgressModel",
          "state": {
            "_dom_classes": [],
            "_model_module": "@jupyter-widgets/controls",
            "_model_module_version": "1.5.0",
            "_model_name": "FloatProgressModel",
            "_view_count": null,
            "_view_module": "@jupyter-widgets/controls",
            "_view_module_version": "1.5.0",
            "_view_name": "ProgressView",
            "bar_style": "success",
            "description": "",
            "description_tooltip": null,
            "layout": "IPY_MODEL_b2fc825e7e6949e0a18f491ff261ac2b",
            "max": 115434268,
            "min": 0,
            "orientation": "horizontal",
            "style": "IPY_MODEL_df6e6c84cc1c4c7b8cf5f8555eb42166",
            "value": 115434268
          }
        },
        "2ee43f14fa654a66ad0cfb559826f266": {
          "model_module": "@jupyter-widgets/controls",
          "model_module_version": "1.5.0",
          "model_name": "FloatProgressModel",
          "state": {
            "_dom_classes": [],
            "_model_module": "@jupyter-widgets/controls",
            "_model_module_version": "1.5.0",
            "_model_name": "FloatProgressModel",
            "_view_count": null,
            "_view_module": "@jupyter-widgets/controls",
            "_view_module_version": "1.5.0",
            "_view_name": "ProgressView",
            "bar_style": "success",
            "description": "",
            "description_tooltip": null,
            "layout": "IPY_MODEL_00b164fb36864e53a8a73710d7d855cc",
            "max": 216625723,
            "min": 0,
            "orientation": "horizontal",
            "style": "IPY_MODEL_64a0c4aa0bba4b6f8e8f5775a4341147",
            "value": 216625723
          }
        },
        "3095817ccc8f4ec6bae9b0c201d8e40a": {
          "model_module": "@jupyter-widgets/controls",
          "model_module_version": "1.5.0",
          "model_name": "HTMLModel",
          "state": {
            "_dom_classes": [],
            "_model_module": "@jupyter-widgets/controls",
            "_model_module_version": "1.5.0",
            "_model_name": "HTMLModel",
            "_view_count": null,
            "_view_module": "@jupyter-widgets/controls",
            "_view_module_version": "1.5.0",
            "_view_name": "HTMLView",
            "description": "",
            "description_tooltip": null,
            "layout": "IPY_MODEL_547eb1582628438c9f0ef01554dfcdb4",
            "placeholder": "​",
            "style": "IPY_MODEL_40b532d4d85740a2a16251bb321f489a",
            "value": " 115M/115M [00:02&lt;00:00, 36.9MB/s]"
          }
        },
        "309bad22d08c47af8d51942da599328e": {
          "model_module": "@jupyter-widgets/controls",
          "model_module_version": "1.5.0",
          "model_name": "DescriptionStyleModel",
          "state": {
            "_model_module": "@jupyter-widgets/controls",
            "_model_module_version": "1.5.0",
            "_model_name": "DescriptionStyleModel",
            "_view_count": null,
            "_view_module": "@jupyter-widgets/base",
            "_view_module_version": "1.2.0",
            "_view_name": "StyleView",
            "description_width": ""
          }
        },
        "3494ef9884224fa9a0a65999d7fc2945": {
          "model_module": "@jupyter-widgets/controls",
          "model_module_version": "1.5.0",
          "model_name": "DescriptionStyleModel",
          "state": {
            "_model_module": "@jupyter-widgets/controls",
            "_model_module_version": "1.5.0",
            "_model_name": "DescriptionStyleModel",
            "_view_count": null,
            "_view_module": "@jupyter-widgets/base",
            "_view_module_version": "1.2.0",
            "_view_name": "StyleView",
            "description_width": ""
          }
        },
        "3bd05fe4e6bd4ea2b7bfcfba705369c5": {
          "model_module": "@jupyter-widgets/controls",
          "model_module_version": "1.5.0",
          "model_name": "HTMLModel",
          "state": {
            "_dom_classes": [],
            "_model_module": "@jupyter-widgets/controls",
            "_model_module_version": "1.5.0",
            "_model_name": "HTMLModel",
            "_view_count": null,
            "_view_module": "@jupyter-widgets/controls",
            "_view_module_version": "1.5.0",
            "_view_name": "HTMLView",
            "description": "",
            "description_tooltip": null,
            "layout": "IPY_MODEL_01ef4b60c3144e17afffb86281466bab",
            "placeholder": "​",
            "style": "IPY_MODEL_3494ef9884224fa9a0a65999d7fc2945",
            "value": "Downloading model.safetensors: 100%"
          }
        },
        "40b532d4d85740a2a16251bb321f489a": {
          "model_module": "@jupyter-widgets/controls",
          "model_module_version": "1.5.0",
          "model_name": "DescriptionStyleModel",
          "state": {
            "_model_module": "@jupyter-widgets/controls",
            "_model_module_version": "1.5.0",
            "_model_name": "DescriptionStyleModel",
            "_view_count": null,
            "_view_module": "@jupyter-widgets/base",
            "_view_module_version": "1.2.0",
            "_view_name": "StyleView",
            "description_width": ""
          }
        },
        "415ddcb74bc2467fa9399039b7d0cafb": {
          "model_module": "@jupyter-widgets/controls",
          "model_module_version": "1.5.0",
          "model_name": "DescriptionStyleModel",
          "state": {
            "_model_module": "@jupyter-widgets/controls",
            "_model_module_version": "1.5.0",
            "_model_name": "DescriptionStyleModel",
            "_view_count": null,
            "_view_module": "@jupyter-widgets/base",
            "_view_module_version": "1.2.0",
            "_view_name": "StyleView",
            "description_width": ""
          }
        },
        "5246faf4e8194647a4b41d9de5a168f6": {
          "model_module": "@jupyter-widgets/controls",
          "model_module_version": "1.5.0",
          "model_name": "HBoxModel",
          "state": {
            "_dom_classes": [],
            "_model_module": "@jupyter-widgets/controls",
            "_model_module_version": "1.5.0",
            "_model_name": "HBoxModel",
            "_view_count": null,
            "_view_module": "@jupyter-widgets/controls",
            "_view_module_version": "1.5.0",
            "_view_name": "HBoxView",
            "box_style": "",
            "children": [
              "IPY_MODEL_c8f31460d7d5420db2c7840e287fac5b",
              "IPY_MODEL_2ee43f14fa654a66ad0cfb559826f266",
              "IPY_MODEL_e7e6388db19d47ceb06afc75fbb8486c"
            ],
            "layout": "IPY_MODEL_922be25533bd448e9ce92614f7bd2677"
          }
        },
        "547eb1582628438c9f0ef01554dfcdb4": {
          "model_module": "@jupyter-widgets/base",
          "model_module_version": "1.2.0",
          "model_name": "LayoutModel",
          "state": {
            "_model_module": "@jupyter-widgets/base",
            "_model_module_version": "1.2.0",
            "_model_name": "LayoutModel",
            "_view_count": null,
            "_view_module": "@jupyter-widgets/base",
            "_view_module_version": "1.2.0",
            "_view_name": "LayoutView",
            "align_content": null,
            "align_items": null,
            "align_self": null,
            "border": null,
            "bottom": null,
            "display": null,
            "flex": null,
            "flex_flow": null,
            "grid_area": null,
            "grid_auto_columns": null,
            "grid_auto_flow": null,
            "grid_auto_rows": null,
            "grid_column": null,
            "grid_gap": null,
            "grid_row": null,
            "grid_template_areas": null,
            "grid_template_columns": null,
            "grid_template_rows": null,
            "height": null,
            "justify_content": null,
            "justify_items": null,
            "left": null,
            "margin": null,
            "max_height": null,
            "max_width": null,
            "min_height": null,
            "min_width": null,
            "object_fit": null,
            "object_position": null,
            "order": null,
            "overflow": null,
            "overflow_x": null,
            "overflow_y": null,
            "padding": null,
            "right": null,
            "top": null,
            "visibility": null,
            "width": null
          }
        },
        "5ffb0b594f51466284af380fd4d47b40": {
          "model_module": "@jupyter-widgets/controls",
          "model_module_version": "1.5.0",
          "model_name": "FloatProgressModel",
          "state": {
            "_dom_classes": [],
            "_model_module": "@jupyter-widgets/controls",
            "_model_module_version": "1.5.0",
            "_model_name": "FloatProgressModel",
            "_view_count": null,
            "_view_module": "@jupyter-widgets/controls",
            "_view_module_version": "1.5.0",
            "_view_name": "ProgressView",
            "bar_style": "success",
            "description": "",
            "description_tooltip": null,
            "layout": "IPY_MODEL_c13aff2b064743be941b4672550e56c9",
            "max": 1469,
            "min": 0,
            "orientation": "horizontal",
            "style": "IPY_MODEL_ef5fba5f330748faa9bd583d637087a6",
            "value": 1469
          }
        },
        "64a0c4aa0bba4b6f8e8f5775a4341147": {
          "model_module": "@jupyter-widgets/controls",
          "model_module_version": "1.5.0",
          "model_name": "ProgressStyleModel",
          "state": {
            "_model_module": "@jupyter-widgets/controls",
            "_model_module_version": "1.5.0",
            "_model_name": "ProgressStyleModel",
            "_view_count": null,
            "_view_module": "@jupyter-widgets/base",
            "_view_module_version": "1.2.0",
            "_view_name": "StyleView",
            "bar_color": null,
            "description_width": ""
          }
        },
        "7185b40a7fa74088ad7ff6efb524e6b5": {
          "model_module": "@jupyter-widgets/base",
          "model_module_version": "1.2.0",
          "model_name": "LayoutModel",
          "state": {
            "_model_module": "@jupyter-widgets/base",
            "_model_module_version": "1.2.0",
            "_model_name": "LayoutModel",
            "_view_count": null,
            "_view_module": "@jupyter-widgets/base",
            "_view_module_version": "1.2.0",
            "_view_name": "LayoutView",
            "align_content": null,
            "align_items": null,
            "align_self": null,
            "border": null,
            "bottom": null,
            "display": null,
            "flex": null,
            "flex_flow": null,
            "grid_area": null,
            "grid_auto_columns": null,
            "grid_auto_flow": null,
            "grid_auto_rows": null,
            "grid_column": null,
            "grid_gap": null,
            "grid_row": null,
            "grid_template_areas": null,
            "grid_template_columns": null,
            "grid_template_rows": null,
            "height": null,
            "justify_content": null,
            "justify_items": null,
            "left": null,
            "margin": null,
            "max_height": null,
            "max_width": null,
            "min_height": null,
            "min_width": null,
            "object_fit": null,
            "object_position": null,
            "order": null,
            "overflow": null,
            "overflow_x": null,
            "overflow_y": null,
            "padding": null,
            "right": null,
            "top": null,
            "visibility": null,
            "width": null
          }
        },
        "7ad056a7d71847d498f270ecac5cbf62": {
          "model_module": "@jupyter-widgets/base",
          "model_module_version": "1.2.0",
          "model_name": "LayoutModel",
          "state": {
            "_model_module": "@jupyter-widgets/base",
            "_model_module_version": "1.2.0",
            "_model_name": "LayoutModel",
            "_view_count": null,
            "_view_module": "@jupyter-widgets/base",
            "_view_module_version": "1.2.0",
            "_view_name": "LayoutView",
            "align_content": null,
            "align_items": null,
            "align_self": null,
            "border": null,
            "bottom": null,
            "display": null,
            "flex": null,
            "flex_flow": null,
            "grid_area": null,
            "grid_auto_columns": null,
            "grid_auto_flow": null,
            "grid_auto_rows": null,
            "grid_column": null,
            "grid_gap": null,
            "grid_row": null,
            "grid_template_areas": null,
            "grid_template_columns": null,
            "grid_template_rows": null,
            "height": null,
            "justify_content": null,
            "justify_items": null,
            "left": null,
            "margin": null,
            "max_height": null,
            "max_width": null,
            "min_height": null,
            "min_width": null,
            "object_fit": null,
            "object_position": null,
            "order": null,
            "overflow": null,
            "overflow_x": null,
            "overflow_y": null,
            "padding": null,
            "right": null,
            "top": null,
            "visibility": null,
            "width": null
          }
        },
        "7d37b6f0ba8b4c5eb875635b98778d26": {
          "model_module": "@jupyter-widgets/controls",
          "model_module_version": "1.5.0",
          "model_name": "DescriptionStyleModel",
          "state": {
            "_model_module": "@jupyter-widgets/controls",
            "_model_module_version": "1.5.0",
            "_model_name": "DescriptionStyleModel",
            "_view_count": null,
            "_view_module": "@jupyter-widgets/base",
            "_view_module_version": "1.2.0",
            "_view_name": "StyleView",
            "description_width": ""
          }
        },
        "922be25533bd448e9ce92614f7bd2677": {
          "model_module": "@jupyter-widgets/base",
          "model_module_version": "1.2.0",
          "model_name": "LayoutModel",
          "state": {
            "_model_module": "@jupyter-widgets/base",
            "_model_module_version": "1.2.0",
            "_model_name": "LayoutModel",
            "_view_count": null,
            "_view_module": "@jupyter-widgets/base",
            "_view_module_version": "1.2.0",
            "_view_name": "LayoutView",
            "align_content": null,
            "align_items": null,
            "align_self": null,
            "border": null,
            "bottom": null,
            "display": null,
            "flex": null,
            "flex_flow": null,
            "grid_area": null,
            "grid_auto_columns": null,
            "grid_auto_flow": null,
            "grid_auto_rows": null,
            "grid_column": null,
            "grid_gap": null,
            "grid_row": null,
            "grid_template_areas": null,
            "grid_template_columns": null,
            "grid_template_rows": null,
            "height": null,
            "justify_content": null,
            "justify_items": null,
            "left": null,
            "margin": null,
            "max_height": null,
            "max_width": null,
            "min_height": null,
            "min_width": null,
            "object_fit": null,
            "object_position": null,
            "order": null,
            "overflow": null,
            "overflow_x": null,
            "overflow_y": null,
            "padding": null,
            "right": null,
            "top": null,
            "visibility": null,
            "width": null
          }
        },
        "93205e664daa4921959605eb99dfa9cc": {
          "model_module": "@jupyter-widgets/base",
          "model_module_version": "1.2.0",
          "model_name": "LayoutModel",
          "state": {
            "_model_module": "@jupyter-widgets/base",
            "_model_module_version": "1.2.0",
            "_model_name": "LayoutModel",
            "_view_count": null,
            "_view_module": "@jupyter-widgets/base",
            "_view_module_version": "1.2.0",
            "_view_name": "LayoutView",
            "align_content": null,
            "align_items": null,
            "align_self": null,
            "border": null,
            "bottom": null,
            "display": null,
            "flex": null,
            "flex_flow": null,
            "grid_area": null,
            "grid_auto_columns": null,
            "grid_auto_flow": null,
            "grid_auto_rows": null,
            "grid_column": null,
            "grid_gap": null,
            "grid_row": null,
            "grid_template_areas": null,
            "grid_template_columns": null,
            "grid_template_rows": null,
            "height": null,
            "justify_content": null,
            "justify_items": null,
            "left": null,
            "margin": null,
            "max_height": null,
            "max_width": null,
            "min_height": null,
            "min_width": null,
            "object_fit": null,
            "object_position": null,
            "order": null,
            "overflow": null,
            "overflow_x": null,
            "overflow_y": null,
            "padding": null,
            "right": null,
            "top": null,
            "visibility": null,
            "width": null
          }
        },
        "9eab400a02dc46269e2537db44a78625": {
          "model_module": "@jupyter-widgets/base",
          "model_module_version": "1.2.0",
          "model_name": "LayoutModel",
          "state": {
            "_model_module": "@jupyter-widgets/base",
            "_model_module_version": "1.2.0",
            "_model_name": "LayoutModel",
            "_view_count": null,
            "_view_module": "@jupyter-widgets/base",
            "_view_module_version": "1.2.0",
            "_view_name": "LayoutView",
            "align_content": null,
            "align_items": null,
            "align_self": null,
            "border": null,
            "bottom": null,
            "display": null,
            "flex": null,
            "flex_flow": null,
            "grid_area": null,
            "grid_auto_columns": null,
            "grid_auto_flow": null,
            "grid_auto_rows": null,
            "grid_column": null,
            "grid_gap": null,
            "grid_row": null,
            "grid_template_areas": null,
            "grid_template_columns": null,
            "grid_template_rows": null,
            "height": null,
            "justify_content": null,
            "justify_items": null,
            "left": null,
            "margin": null,
            "max_height": null,
            "max_width": null,
            "min_height": null,
            "min_width": null,
            "object_fit": null,
            "object_position": null,
            "order": null,
            "overflow": null,
            "overflow_x": null,
            "overflow_y": null,
            "padding": null,
            "right": null,
            "top": null,
            "visibility": null,
            "width": null
          }
        },
        "a9a67e81e91e46e19b23f58dea634525": {
          "model_module": "@jupyter-widgets/controls",
          "model_module_version": "1.5.0",
          "model_name": "HBoxModel",
          "state": {
            "_dom_classes": [],
            "_model_module": "@jupyter-widgets/controls",
            "_model_module_version": "1.5.0",
            "_model_name": "HBoxModel",
            "_view_count": null,
            "_view_module": "@jupyter-widgets/controls",
            "_view_module_version": "1.5.0",
            "_view_name": "HBoxView",
            "box_style": "",
            "children": [
              "IPY_MODEL_2045ffddb5c4407f9235d1bf472e9ba5",
              "IPY_MODEL_2df0c4cc59044ec8a59aadf2d5d2a9c9",
              "IPY_MODEL_3095817ccc8f4ec6bae9b0c201d8e40a"
            ],
            "layout": "IPY_MODEL_93205e664daa4921959605eb99dfa9cc"
          }
        },
        "b12ba9f2111c44eeb5ae65820cc7d5d7": {
          "model_module": "@jupyter-widgets/controls",
          "model_module_version": "1.5.0",
          "model_name": "HBoxModel",
          "state": {
            "_dom_classes": [],
            "_model_module": "@jupyter-widgets/controls",
            "_model_module_version": "1.5.0",
            "_model_name": "HBoxModel",
            "_view_count": null,
            "_view_module": "@jupyter-widgets/controls",
            "_view_module_version": "1.5.0",
            "_view_name": "HBoxView",
            "box_style": "",
            "children": [
              "IPY_MODEL_15b9261bb07f4bbb95d276b92feabade",
              "IPY_MODEL_5ffb0b594f51466284af380fd4d47b40",
              "IPY_MODEL_fc994e0c5ced45c78c0b9bb6f19c073f"
            ],
            "layout": "IPY_MODEL_c58471c60519419e9cdb3c7ff174d702"
          }
        },
        "b2fc825e7e6949e0a18f491ff261ac2b": {
          "model_module": "@jupyter-widgets/base",
          "model_module_version": "1.2.0",
          "model_name": "LayoutModel",
          "state": {
            "_model_module": "@jupyter-widgets/base",
            "_model_module_version": "1.2.0",
            "_model_name": "LayoutModel",
            "_view_count": null,
            "_view_module": "@jupyter-widgets/base",
            "_view_module_version": "1.2.0",
            "_view_name": "LayoutView",
            "align_content": null,
            "align_items": null,
            "align_self": null,
            "border": null,
            "bottom": null,
            "display": null,
            "flex": null,
            "flex_flow": null,
            "grid_area": null,
            "grid_auto_columns": null,
            "grid_auto_flow": null,
            "grid_auto_rows": null,
            "grid_column": null,
            "grid_gap": null,
            "grid_row": null,
            "grid_template_areas": null,
            "grid_template_columns": null,
            "grid_template_rows": null,
            "height": null,
            "justify_content": null,
            "justify_items": null,
            "left": null,
            "margin": null,
            "max_height": null,
            "max_width": null,
            "min_height": null,
            "min_width": null,
            "object_fit": null,
            "object_position": null,
            "order": null,
            "overflow": null,
            "overflow_x": null,
            "overflow_y": null,
            "padding": null,
            "right": null,
            "top": null,
            "visibility": null,
            "width": null
          }
        },
        "c13aff2b064743be941b4672550e56c9": {
          "model_module": "@jupyter-widgets/base",
          "model_module_version": "1.2.0",
          "model_name": "LayoutModel",
          "state": {
            "_model_module": "@jupyter-widgets/base",
            "_model_module_version": "1.2.0",
            "_model_name": "LayoutModel",
            "_view_count": null,
            "_view_module": "@jupyter-widgets/base",
            "_view_module_version": "1.2.0",
            "_view_name": "LayoutView",
            "align_content": null,
            "align_items": null,
            "align_self": null,
            "border": null,
            "bottom": null,
            "display": null,
            "flex": null,
            "flex_flow": null,
            "grid_area": null,
            "grid_auto_columns": null,
            "grid_auto_flow": null,
            "grid_auto_rows": null,
            "grid_column": null,
            "grid_gap": null,
            "grid_row": null,
            "grid_template_areas": null,
            "grid_template_columns": null,
            "grid_template_rows": null,
            "height": null,
            "justify_content": null,
            "justify_items": null,
            "left": null,
            "margin": null,
            "max_height": null,
            "max_width": null,
            "min_height": null,
            "min_width": null,
            "object_fit": null,
            "object_position": null,
            "order": null,
            "overflow": null,
            "overflow_x": null,
            "overflow_y": null,
            "padding": null,
            "right": null,
            "top": null,
            "visibility": null,
            "width": null
          }
        },
        "c428c0bd915d455986b3193e9636ea80": {
          "model_module": "@jupyter-widgets/base",
          "model_module_version": "1.2.0",
          "model_name": "LayoutModel",
          "state": {
            "_model_module": "@jupyter-widgets/base",
            "_model_module_version": "1.2.0",
            "_model_name": "LayoutModel",
            "_view_count": null,
            "_view_module": "@jupyter-widgets/base",
            "_view_module_version": "1.2.0",
            "_view_name": "LayoutView",
            "align_content": null,
            "align_items": null,
            "align_self": null,
            "border": null,
            "bottom": null,
            "display": null,
            "flex": null,
            "flex_flow": null,
            "grid_area": null,
            "grid_auto_columns": null,
            "grid_auto_flow": null,
            "grid_auto_rows": null,
            "grid_column": null,
            "grid_gap": null,
            "grid_row": null,
            "grid_template_areas": null,
            "grid_template_columns": null,
            "grid_template_rows": null,
            "height": null,
            "justify_content": null,
            "justify_items": null,
            "left": null,
            "margin": null,
            "max_height": null,
            "max_width": null,
            "min_height": null,
            "min_width": null,
            "object_fit": null,
            "object_position": null,
            "order": null,
            "overflow": null,
            "overflow_x": null,
            "overflow_y": null,
            "padding": null,
            "right": null,
            "top": null,
            "visibility": null,
            "width": null
          }
        },
        "c58471c60519419e9cdb3c7ff174d702": {
          "model_module": "@jupyter-widgets/base",
          "model_module_version": "1.2.0",
          "model_name": "LayoutModel",
          "state": {
            "_model_module": "@jupyter-widgets/base",
            "_model_module_version": "1.2.0",
            "_model_name": "LayoutModel",
            "_view_count": null,
            "_view_module": "@jupyter-widgets/base",
            "_view_module_version": "1.2.0",
            "_view_name": "LayoutView",
            "align_content": null,
            "align_items": null,
            "align_self": null,
            "border": null,
            "bottom": null,
            "display": null,
            "flex": null,
            "flex_flow": null,
            "grid_area": null,
            "grid_auto_columns": null,
            "grid_auto_flow": null,
            "grid_auto_rows": null,
            "grid_column": null,
            "grid_gap": null,
            "grid_row": null,
            "grid_template_areas": null,
            "grid_template_columns": null,
            "grid_template_rows": null,
            "height": null,
            "justify_content": null,
            "justify_items": null,
            "left": null,
            "margin": null,
            "max_height": null,
            "max_width": null,
            "min_height": null,
            "min_width": null,
            "object_fit": null,
            "object_position": null,
            "order": null,
            "overflow": null,
            "overflow_x": null,
            "overflow_y": null,
            "padding": null,
            "right": null,
            "top": null,
            "visibility": null,
            "width": null
          }
        },
        "c8f31460d7d5420db2c7840e287fac5b": {
          "model_module": "@jupyter-widgets/controls",
          "model_module_version": "1.5.0",
          "model_name": "HTMLModel",
          "state": {
            "_dom_classes": [],
            "_model_module": "@jupyter-widgets/controls",
            "_model_module_version": "1.5.0",
            "_model_name": "HTMLModel",
            "_view_count": null,
            "_view_module": "@jupyter-widgets/controls",
            "_view_module_version": "1.5.0",
            "_view_name": "HTMLView",
            "description": "",
            "description_tooltip": null,
            "layout": "IPY_MODEL_f63ee7f4234c45d48829e011f24eafde",
            "placeholder": "​",
            "style": "IPY_MODEL_f8bcfb1381aa46d89034ea50e30b43cf",
            "value": "Downloading yolox_l0.05.onnx: 100%"
          }
        },
        "cc6672c78dac468d9264efd90902c87d": {
          "model_module": "@jupyter-widgets/controls",
          "model_module_version": "1.5.0",
          "model_name": "ProgressStyleModel",
          "state": {
            "_model_module": "@jupyter-widgets/controls",
            "_model_module_version": "1.5.0",
            "_model_name": "ProgressStyleModel",
            "_view_count": null,
            "_view_module": "@jupyter-widgets/base",
            "_view_module_version": "1.2.0",
            "_view_name": "StyleView",
            "bar_color": null,
            "description_width": ""
          }
        },
        "daabde9b4b764797af6b96370e40c1d2": {
          "model_module": "@jupyter-widgets/base",
          "model_module_version": "1.2.0",
          "model_name": "LayoutModel",
          "state": {
            "_model_module": "@jupyter-widgets/base",
            "_model_module_version": "1.2.0",
            "_model_name": "LayoutModel",
            "_view_count": null,
            "_view_module": "@jupyter-widgets/base",
            "_view_module_version": "1.2.0",
            "_view_name": "LayoutView",
            "align_content": null,
            "align_items": null,
            "align_self": null,
            "border": null,
            "bottom": null,
            "display": null,
            "flex": null,
            "flex_flow": null,
            "grid_area": null,
            "grid_auto_columns": null,
            "grid_auto_flow": null,
            "grid_auto_rows": null,
            "grid_column": null,
            "grid_gap": null,
            "grid_row": null,
            "grid_template_areas": null,
            "grid_template_columns": null,
            "grid_template_rows": null,
            "height": null,
            "justify_content": null,
            "justify_items": null,
            "left": null,
            "margin": null,
            "max_height": null,
            "max_width": null,
            "min_height": null,
            "min_width": null,
            "object_fit": null,
            "object_position": null,
            "order": null,
            "overflow": null,
            "overflow_x": null,
            "overflow_y": null,
            "padding": null,
            "right": null,
            "top": null,
            "visibility": null,
            "width": null
          }
        },
        "df6e6c84cc1c4c7b8cf5f8555eb42166": {
          "model_module": "@jupyter-widgets/controls",
          "model_module_version": "1.5.0",
          "model_name": "ProgressStyleModel",
          "state": {
            "_model_module": "@jupyter-widgets/controls",
            "_model_module_version": "1.5.0",
            "_model_name": "ProgressStyleModel",
            "_view_count": null,
            "_view_module": "@jupyter-widgets/base",
            "_view_module_version": "1.2.0",
            "_view_name": "StyleView",
            "bar_color": null,
            "description_width": ""
          }
        },
        "e64cfd87330d4b238596da66db63d984": {
          "model_module": "@jupyter-widgets/controls",
          "model_module_version": "1.5.0",
          "model_name": "DescriptionStyleModel",
          "state": {
            "_model_module": "@jupyter-widgets/controls",
            "_model_module_version": "1.5.0",
            "_model_name": "DescriptionStyleModel",
            "_view_count": null,
            "_view_module": "@jupyter-widgets/base",
            "_view_module_version": "1.2.0",
            "_view_name": "StyleView",
            "description_width": ""
          }
        },
        "e7e6388db19d47ceb06afc75fbb8486c": {
          "model_module": "@jupyter-widgets/controls",
          "model_module_version": "1.5.0",
          "model_name": "HTMLModel",
          "state": {
            "_dom_classes": [],
            "_model_module": "@jupyter-widgets/controls",
            "_model_module_version": "1.5.0",
            "_model_name": "HTMLModel",
            "_view_count": null,
            "_view_module": "@jupyter-widgets/controls",
            "_view_module_version": "1.5.0",
            "_view_name": "HTMLView",
            "description": "",
            "description_tooltip": null,
            "layout": "IPY_MODEL_2bcca7acc6f047d6ad4efbf1e5333c58",
            "placeholder": "​",
            "style": "IPY_MODEL_052ec73371404595b7dec973dda308d4",
            "value": " 217M/217M [00:07&lt;00:00, 37.2MB/s]"
          }
        },
        "ef5fba5f330748faa9bd583d637087a6": {
          "model_module": "@jupyter-widgets/controls",
          "model_module_version": "1.5.0",
          "model_name": "ProgressStyleModel",
          "state": {
            "_model_module": "@jupyter-widgets/controls",
            "_model_module_version": "1.5.0",
            "_model_name": "ProgressStyleModel",
            "_view_count": null,
            "_view_module": "@jupyter-widgets/base",
            "_view_module_version": "1.2.0",
            "_view_name": "StyleView",
            "bar_color": null,
            "description_width": ""
          }
        },
        "ef897646c62444929b91935d3917b14d": {
          "model_module": "@jupyter-widgets/controls",
          "model_module_version": "1.5.0",
          "model_name": "HBoxModel",
          "state": {
            "_dom_classes": [],
            "_model_module": "@jupyter-widgets/controls",
            "_model_module_version": "1.5.0",
            "_model_name": "HBoxModel",
            "_view_count": null,
            "_view_module": "@jupyter-widgets/controls",
            "_view_module_version": "1.5.0",
            "_view_name": "HBoxView",
            "box_style": "",
            "children": [
              "IPY_MODEL_3bd05fe4e6bd4ea2b7bfcfba705369c5",
              "IPY_MODEL_27e36e7f92d7417bb221fa95406cfb2f",
              "IPY_MODEL_21318da3ae0644c28ec63983a34bd2ee"
            ],
            "layout": "IPY_MODEL_c428c0bd915d455986b3193e9636ea80"
          }
        },
        "f63ee7f4234c45d48829e011f24eafde": {
          "model_module": "@jupyter-widgets/base",
          "model_module_version": "1.2.0",
          "model_name": "LayoutModel",
          "state": {
            "_model_module": "@jupyter-widgets/base",
            "_model_module_version": "1.2.0",
            "_model_name": "LayoutModel",
            "_view_count": null,
            "_view_module": "@jupyter-widgets/base",
            "_view_module_version": "1.2.0",
            "_view_name": "LayoutView",
            "align_content": null,
            "align_items": null,
            "align_self": null,
            "border": null,
            "bottom": null,
            "display": null,
            "flex": null,
            "flex_flow": null,
            "grid_area": null,
            "grid_auto_columns": null,
            "grid_auto_flow": null,
            "grid_auto_rows": null,
            "grid_column": null,
            "grid_gap": null,
            "grid_row": null,
            "grid_template_areas": null,
            "grid_template_columns": null,
            "grid_template_rows": null,
            "height": null,
            "justify_content": null,
            "justify_items": null,
            "left": null,
            "margin": null,
            "max_height": null,
            "max_width": null,
            "min_height": null,
            "min_width": null,
            "object_fit": null,
            "object_position": null,
            "order": null,
            "overflow": null,
            "overflow_x": null,
            "overflow_y": null,
            "padding": null,
            "right": null,
            "top": null,
            "visibility": null,
            "width": null
          }
        },
        "f8bcfb1381aa46d89034ea50e30b43cf": {
          "model_module": "@jupyter-widgets/controls",
          "model_module_version": "1.5.0",
          "model_name": "DescriptionStyleModel",
          "state": {
            "_model_module": "@jupyter-widgets/controls",
            "_model_module_version": "1.5.0",
            "_model_name": "DescriptionStyleModel",
            "_view_count": null,
            "_view_module": "@jupyter-widgets/base",
            "_view_module_version": "1.2.0",
            "_view_name": "StyleView",
            "description_width": ""
          }
        },
        "fc994e0c5ced45c78c0b9bb6f19c073f": {
          "model_module": "@jupyter-widgets/controls",
          "model_module_version": "1.5.0",
          "model_name": "HTMLModel",
          "state": {
            "_dom_classes": [],
            "_model_module": "@jupyter-widgets/controls",
            "_model_module_version": "1.5.0",
            "_model_name": "HTMLModel",
            "_view_count": null,
            "_view_module": "@jupyter-widgets/controls",
            "_view_module_version": "1.5.0",
            "_view_name": "HTMLView",
            "description": "",
            "description_tooltip": null,
            "layout": "IPY_MODEL_daabde9b4b764797af6b96370e40c1d2",
            "placeholder": "​",
            "style": "IPY_MODEL_7d37b6f0ba8b4c5eb875635b98778d26",
            "value": " 1.47k/1.47k [00:00&lt;00:00, 66.9kB/s]"
          }
        }
      }
    }
  },
  "nbformat": 4,
  "nbformat_minor": 5
}
